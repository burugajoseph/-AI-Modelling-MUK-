{
  "nbformat": 4,
  "nbformat_minor": 0,
  "metadata": {
    "colab": {
      "provenance": [],
      "authorship_tag": "ABX9TyN0hfAb1QpQbQ451A7beGAF",
      "include_colab_link": true
    },
    "kernelspec": {
      "name": "python3",
      "display_name": "Python 3"
    },
    "language_info": {
      "name": "python"
    }
  },
  "cells": [
    {
      "cell_type": "markdown",
      "metadata": {
        "id": "view-in-github",
        "colab_type": "text"
      },
      "source": [
        "<a href=\"https://colab.research.google.com/github/burugajoseph/-AI-Modelling-MUK-/blob/main/Copy_of_Copy_of_python_scientific_modules_%26_libraries.ipynb\" target=\"_parent\"><img src=\"https://colab.research.google.com/assets/colab-badge.svg\" alt=\"Open In Colab\"/></a>"
      ]
    },
    {
      "cell_type": "markdown",
      "source": [
        "python scientific modules & libraries"
      ],
      "metadata": {
        "id": "USvOYocXpHoU"
      }
    },
    {
      "cell_type": "code",
      "execution_count": null,
      "metadata": {
        "colab": {
          "base_uri": "https://localhost:8080/"
        },
        "id": "1mymxezDpGOn",
        "outputId": "9b723c93-bc11-4fa1-cd45-5594944432a9"
      },
      "outputs": [
        {
          "output_type": "execute_result",
          "data": {
            "text/plain": [
              "6.928203230275509"
            ]
          },
          "metadata": {},
          "execution_count": 1
        }
      ],
      "source": [
        "from math import * # import math / import math as m\n",
        "sqrt(48) # math.sqrt(48) / m.sqrt(48)"
      ]
    },
    {
      "cell_type": "code",
      "source": [
        "pi"
      ],
      "metadata": {
        "colab": {
          "base_uri": "https://localhost:8080/"
        },
        "id": "dyCqBLQbpzfj",
        "outputId": "a6db5bd8-9d18-40e0-a8df-8e563f1be053"
      },
      "execution_count": null,
      "outputs": [
        {
          "output_type": "execute_result",
          "data": {
            "text/plain": [
              "3.141592653589793"
            ]
          },
          "metadata": {},
          "execution_count": 2
        }
      ]
    },
    {
      "cell_type": "code",
      "source": [
        "# numerical python\n",
        "import numpy as np\n",
        "\n",
        "# numerical ( this is similar to a list, just that for it, it must have the same datatype)\n",
        "\n",
        "# creating one dimension array\n",
        "a = np.array([1,4,5,6], int) # np.array([#,#,#,#], datatype)\n",
        "print(a)"
      ],
      "metadata": {
        "colab": {
          "base_uri": "https://localhost:8080/"
        },
        "id": "eNYHS-tGp2aD",
        "outputId": "4b8c6e9e-8af5-4328-eede-380359951b12"
      },
      "execution_count": null,
      "outputs": [
        {
          "output_type": "stream",
          "name": "stdout",
          "text": [
            "[1 4 5 6]\n"
          ]
        }
      ]
    },
    {
      "cell_type": "code",
      "source": [
        "# creating multi dimension array\n",
        "b = np.array([[1,4,5,6],[7,8,9,10]], int) # np.array([[#,#,#,#],[#,#,#,#]] datatype)\n",
        "print(b)"
      ],
      "metadata": {
        "colab": {
          "base_uri": "https://localhost:8080/"
        },
        "id": "fJu9cy9wvDNy",
        "outputId": "c4d92d3d-21fb-4c3d-d3e0-0644cf474847"
      },
      "execution_count": null,
      "outputs": [
        {
          "output_type": "stream",
          "name": "stdout",
          "text": [
            "[[ 1  4  5  6]\n",
            " [ 7  8  9 10]]\n"
          ]
        }
      ]
    },
    {
      "cell_type": "code",
      "source": [
        "#shape of the array\n",
        "b.reshape((4,2)) # reshape ((#,#))"
      ],
      "metadata": {
        "colab": {
          "base_uri": "https://localhost:8080/"
        },
        "id": "1qL3z3LlwhOA",
        "outputId": "c6f0b5d8-4f54-484b-b71c-9205ab5d7cef"
      },
      "execution_count": null,
      "outputs": [
        {
          "output_type": "execute_result",
          "data": {
            "text/plain": [
              "array([[ 1,  4],\n",
              "       [ 5,  6],\n",
              "       [ 7,  8],\n",
              "       [ 9, 10]])"
            ]
          },
          "metadata": {},
          "execution_count": 9
        }
      ]
    },
    {
      "cell_type": "code",
      "source": [
        "# transpose function\n",
        "b.transpose()"
      ],
      "metadata": {
        "colab": {
          "base_uri": "https://localhost:8080/"
        },
        "id": "ba5fVc08w3q2",
        "outputId": "abdc81b0-6dd1-4674-8dc2-7560a8fd2b39"
      },
      "execution_count": null,
      "outputs": [
        {
          "output_type": "execute_result",
          "data": {
            "text/plain": [
              "array([[ 1,  7],\n",
              "       [ 4,  8],\n",
              "       [ 5,  9],\n",
              "       [ 6, 10]])"
            ]
          },
          "metadata": {},
          "execution_count": 10
        }
      ]
    },
    {
      "cell_type": "code",
      "source": [
        "# array mathematics\n",
        "\n",
        "x = np.array([1,2,3], int)\n",
        "y = np.array([4,5,6], int)\n",
        "\n",
        "#Addition\n",
        "z = x + y\n",
        "z"
      ],
      "metadata": {
        "colab": {
          "base_uri": "https://localhost:8080/"
        },
        "id": "ep3-qTVHyGNs",
        "outputId": "cdeba625-314f-465d-fe0f-d80694fa67bb"
      },
      "execution_count": null,
      "outputs": [
        {
          "output_type": "execute_result",
          "data": {
            "text/plain": [
              "array([5, 7, 9])"
            ]
          },
          "metadata": {},
          "execution_count": 11
        }
      ]
    },
    {
      "cell_type": "code",
      "source": [
        "# array items summation\n",
        "x.sum()"
      ],
      "metadata": {
        "colab": {
          "base_uri": "https://localhost:8080/"
        },
        "id": "cvTXAZwYyQEO",
        "outputId": "80e81154-493c-49d0-8e54-3d3f5aa6907f"
      },
      "execution_count": null,
      "outputs": [
        {
          "output_type": "execute_result",
          "data": {
            "text/plain": [
              "6"
            ]
          },
          "metadata": {},
          "execution_count": 12
        }
      ]
    },
    {
      "cell_type": "code",
      "source": [
        "# array item product\n",
        "x.prod()"
      ],
      "metadata": {
        "colab": {
          "base_uri": "https://localhost:8080/"
        },
        "id": "5LPj72NZzGkr",
        "outputId": "57a296d9-c6b9-4d29-9cc9-5e6ce97ddeb4"
      },
      "execution_count": null,
      "outputs": [
        {
          "output_type": "execute_result",
          "data": {
            "text/plain": [
              "6"
            ]
          },
          "metadata": {},
          "execution_count": 13
        }
      ]
    },
    {
      "cell_type": "markdown",
      "source": [
        "pandas (panel data libray)"
      ],
      "metadata": {
        "id": "x63mrnGXzT7Y"
      }
    },
    {
      "cell_type": "code",
      "source": [
        "# importing pandas libray\n",
        "import pandas as pd\n",
        "\n",
        "# creat a list\n",
        "a = (1,2,3,4)\n",
        "print(a)"
      ],
      "metadata": {
        "colab": {
          "base_uri": "https://localhost:8080/"
        },
        "id": "K9ZZxCZmzeFe",
        "outputId": "4d94d067-56ff-4807-b2aa-aaa2245c55db"
      },
      "execution_count": null,
      "outputs": [
        {
          "output_type": "stream",
          "name": "stdout",
          "text": [
            "(1, 2, 3, 4)\n"
          ]
        }
      ]
    },
    {
      "cell_type": "code",
      "source": [
        "# create a dataframe\n",
        "dataframe = pd.Series(a)\n",
        "print(dataframe)"
      ],
      "metadata": {
        "colab": {
          "base_uri": "https://localhost:8080/"
        },
        "id": "Zy9nDev-z_1B",
        "outputId": "6c96a151-558d-44ce-9420-531222918464"
      },
      "execution_count": null,
      "outputs": [
        {
          "output_type": "stream",
          "name": "stdout",
          "text": [
            "0    1\n",
            "1    2\n",
            "2    3\n",
            "3    4\n",
            "dtype: int64\n"
          ]
        }
      ]
    },
    {
      "cell_type": "code",
      "source": [
        "#creating your own index\n",
        "dataframe = pd.Series(a, index=['w','x','y','z'])\n",
        "print(dataframe)"
      ],
      "metadata": {
        "colab": {
          "base_uri": "https://localhost:8080/"
        },
        "id": "eE_r6W0X1ztb",
        "outputId": "1081d04d-101d-45e2-d0b7-6aa43c0c56f1"
      },
      "execution_count": null,
      "outputs": [
        {
          "output_type": "stream",
          "name": "stdout",
          "text": [
            "w    1\n",
            "x    2\n",
            "y    3\n",
            "z    4\n",
            "dtype: int64\n"
          ]
        }
      ]
    },
    {
      "cell_type": "code",
      "source": [
        "data = {\n",
        "    \"calories\" : [429, 380, 390],\n",
        "    \"Duration\" : [50,40,30]\n",
        "}\n",
        "df = pd.DataFrame(data, index=[\"day1\", \"day2\", \"day3\"])\n",
        "print(df)"
      ],
      "metadata": {
        "colab": {
          "base_uri": "https://localhost:8080/"
        },
        "id": "zwAV98vc2urt",
        "outputId": "845604cb-2d40-4109-98bf-dba5129ca4b8"
      },
      "execution_count": null,
      "outputs": [
        {
          "output_type": "stream",
          "name": "stdout",
          "text": [
            "      calories  Duration\n",
            "day1       429        50\n",
            "day2       380        40\n",
            "day3       390        30\n"
          ]
        }
      ]
    },
    {
      "cell_type": "code",
      "source": [
        "print(df.loc[\"day2\"])"
      ],
      "metadata": {
        "colab": {
          "base_uri": "https://localhost:8080/"
        },
        "id": "VcXc7Lk13wMJ",
        "outputId": "9d7e9923-4733-48b2-a6d6-ee35937c358d"
      },
      "execution_count": null,
      "outputs": [
        {
          "output_type": "stream",
          "name": "stdout",
          "text": [
            "calories    380\n",
            "Duration     40\n",
            "Name: day2, dtype: int64\n"
          ]
        }
      ]
    },
    {
      "cell_type": "code",
      "source": [
        "# locating a row using indexes\n",
        "# locate indexes as df\n",
        "data = {\n",
        "    \"calories\" : (429, 380, 390),\n",
        "   \"duration\" : (50,40,30)\n",
        "}\n",
        "#df = pd.dataframe(data)\n",
        "print(df.loc[1])\n",
        "\n"
      ],
      "metadata": {
        "id": "NXu8q1vGit8g"
      },
      "execution_count": null,
      "outputs": []
    },
    {
      "cell_type": "code",
      "source": [
        "# importing csv file using panda\n",
        "import pandas as pd\n",
        "\n",
        "df = pd.read_csv(\"test_standard_bank.csv\")\n"
      ],
      "metadata": {
        "id": "JMGGy6nilL5V"
      },
      "execution_count": null,
      "outputs": []
    },
    {
      "cell_type": "code",
      "source": [
        "df.tail()"
      ],
      "metadata": {
        "id": "XLk_599ElLuP"
      },
      "execution_count": null,
      "outputs": []
    },
    {
      "cell_type": "code",
      "source": [
        "df.info()"
      ],
      "metadata": {
        "id": "_b-QFd5zmEnl"
      },
      "execution_count": null,
      "outputs": []
    },
    {
      "cell_type": "code",
      "source": [
        "# data visualization\n",
        "# bar plot\n",
        "\n",
        "import numpy as np\n",
        "#from matplotlib import pylot as plt\n",
        "# creat database\n",
        "data = {\n",
        "    \"day1\": 420, \"day2\" : 200, \"day3\" : 520\n",
        "    }\n",
        "print(data)"
      ],
      "metadata": {
        "colab": {
          "base_uri": "https://localhost:8080/"
        },
        "id": "p0UdktgomKB5",
        "outputId": "7edc81a4-3b9f-495d-b185-4b40a4800996"
      },
      "execution_count": null,
      "outputs": [
        {
          "output_type": "stream",
          "name": "stdout",
          "text": [
            "{'day1': 420, 'day2': 200, 'day3': 520}\n"
          ]
        }
      ]
    },
    {
      "cell_type": "code",
      "source": [
        "# extraction\n",
        "days = list(data.keys())\n",
        "calories = list(data.values())\n",
        "\n",
        "print(days)\n",
        "print(calories)"
      ],
      "metadata": {
        "colab": {
          "base_uri": "https://localhost:8080/"
        },
        "id": "bjumqEdmrVjX",
        "outputId": "8c67d897-4ab8-4532-d56e-4d5948d6968e"
      },
      "execution_count": null,
      "outputs": [
        {
          "output_type": "stream",
          "name": "stdout",
          "text": [
            "['day1', 'day2', 'day3']\n",
            "[420, 200, 520]\n"
          ]
        }
      ]
    },
    {
      "cell_type": "code",
      "source": [
        "from pandas.io.formats.style import plt\n",
        "from matplotlib.pyplot import color_sequences\n",
        "# plot\n",
        "fig = plt.figure(figsize= (10, 5)) # this is the graph paper\n",
        "\n",
        "#creating the bar plot\n",
        "plt.bar(days, calories, color= \"blue\", width=0.5) # plt.bar(x, y, properties...)\n",
        "plt.xlabel(\"calories\")\n",
        "plt.title(\"A graph of calories against days\")\n",
        "plt.show()"
      ],
      "metadata": {
        "colab": {
          "base_uri": "https://localhost:8080/",
          "height": 487
        },
        "id": "-37mVh40slck",
        "outputId": "c1e7a17d-3b40-49b3-9237-8edcb77ccbe3"
      },
      "execution_count": null,
      "outputs": [
        {
          "output_type": "display_data",
          "data": {
            "text/plain": [
              "<Figure size 1000x500 with 1 Axes>"
            ],
            "image/png": "[encoded data removed]"
          },
          "metadata": {}
        }
      ]
    },
    {
      "cell_type": "code",
      "source": [
        "# import seaborn\n",
        "import seaborn as sns\n",
        "tips = sns.load_dataset(\"tips\")\n",
        "sns.displot(tips, x=\"size\")"
      ],
      "metadata": {
        "colab": {
          "base_uri": "https://localhost:8080/",
          "height": 523
        },
        "id": "PxbUyJZtu2NC",
        "outputId": "f2d2adb9-5074-47b5-f53c-f4e68eda4ffc"
      },
      "execution_count": null,
      "outputs": [
        {
          "output_type": "execute_result",
          "data": {
            "text/plain": [
              "<seaborn.axisgrid.FacetGrid at 0x7f05e4870e50>"
            ]
          },
          "metadata": {},
          "execution_count": 27
        },
        {
          "output_type": "display_data",
          "data": {
            "text/plain": [
              "<Figure size 500x500 with 1 Axes>"
            ],
            "image/png": "[encoded data removed]"
          },
          "metadata": {}
        }
      ]
    }
  ]
}