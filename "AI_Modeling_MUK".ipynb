{
  "cells": [
    {
      "cell_type": "markdown",
      "metadata": {
        "id": "view-in-github",
        "colab_type": "text"
      },
      "source": [
        "<a href=\"https://colab.research.google.com/github/burugajoseph/-AI-Modelling-MUK-/blob/main/%22AI_Modeling_MUK%22.ipynb\" target=\"_parent\"><img src=\"https://colab.research.google.com/assets/colab-badge.svg\" alt=\"Open In Colab\"/></a>"
      ]
    },
    {
      "cell_type": "markdown",
      "metadata": {
        "id": "fFwIJt8_2Urm"
      },
      "source": [
        "define a program that will calculate the area of defent shapes based on user input. the program will the user to choose a shape from \"s\" for square, and \"r\" for rectangle and \"c\" for ciecle."
      ]
    },
    {
      "cell_type": "markdown",
      "source": [
        "# New Section"
      ],
      "metadata": {
        "id": "udIjAliSkrmn"
      }
    },
    {
      "cell_type": "markdown",
      "source": [
        "# New Section"
      ],
      "metadata": {
        "id": "3-hsvVF-ktwY"
      }
    },
    {
      "cell_type": "code",
      "execution_count": 16,
      "metadata": {
        "colab": {
          "base_uri": "https://localhost:8080/"
        },
        "id": "DBGvNTvb2ULy",
        "outputId": "77ceeab7-760f-49dc-fd2d-524d84565588"
      },
      "outputs": [
        {
          "name": "stdout",
          "output_type": "stream",
          "text": [
            "enter shape (s=squiare, r=triangle,c=circles = squire, r = triangle, c=circles\n",
            "enter side length of squire: 8\n"
          ]
        }
      ],
      "source": [
        "# prompt user for shape choice\n",
        "shape= input(\"enter shape (s=squiare, r=triangle,c=circle\")\n",
        "if shape :  \"s\"\n",
        "# prompt user for side length of squiare\n",
        "side = float(input(\"enter side length of squire: \"))\n",
        "# calculate the area of squire\n",
        "# area = side * side\n",
        "\"else\"\n",
        "print: shape = \"r\"\n"
      ]
    },
    {
      "cell_type": "code",
      "execution_count": null,
      "metadata": {
        "colab": {
          "base_uri": "https://localhost:8080/"
        },
        "id": "sVhGRK3dAHJz",
        "outputId": "46fa6a6e-5791-4db3-e1b8-a622174c0d86"
      },
      "outputs": [
        {
          "output_type": "stream",
          "name": "stdout",
          "text": [
            "enter the length of the rectangle: 10\n",
            "enter the width of the rectangle12\n",
            "the area of the rectangle is\n"
          ]
        }
      ],
      "source": [
        "# prompt user for input\n",
        "length = float(input(\"enter the length of the rectangle: \"))\n",
        "Width = float(input(\"enter the width of the rectangle\"))\n",
        "# calculate area\n",
        "# area = length * width.\n",
        "# print result\n",
        "print(\"the area of the rectangle is\",)"
      ]
    },
    {
      "cell_type": "code",
      "execution_count": 21,
      "metadata": {
        "id": "cRTtHudMDcSw",
        "colab": {
          "base_uri": "https://localhost:8080/"
        },
        "outputId": "6e3b574a-31aa-4bfc-c6ba-60fb09ddd940"
      },
      "outputs": [
        {
          "name": "stdout",
          "output_type": "stream",
          "text": [
            "rectangle, squiare, circle, triangleshape\n",
            "enter the lenght of the rectangle12\n",
            "enter the width of the rectangle8\n",
            "enter the length of the side of the squiare4\n"
          ]
        }
      ],
      "source": [
        "shape  = input(\"rectangle, squiare, circle, triangle\")\n",
        "if shape : \"rectangle\"\n",
        "length = input(\"enter the lenght of the rectangle\")\n",
        "width = input(\"enter the width of the rectangle\" )\n",
        "  # area = length * width\n",
        "shape = squiare = input(\"enter the length of the side of the squiare\")\n",
        " # area = side * side\n",
        " #Raduis  = input(\"enter the (radius of the circle\")\n",
        "\n",
        "\n"
      ]
    },
    {
      "cell_type": "markdown",
      "source": [
        "the program will then calculate the selected shape using the relevant formulae"
      ],
      "metadata": {
        "id": "CH31NBkuHNlO"
      }
    },
    {
      "cell_type": "code",
      "execution_count": 100,
      "metadata": {
        "id": "jdbB1tR_C2fA",
        "colab": {
          "base_uri": "https://localhost:8080/",
          "height": 130
        },
        "outputId": "1f0beee9-bf13-4339-ac58-ae13c5960155"
      },
      "outputs": [
        {
          "output_type": "error",
          "ename": "SyntaxError",
          "evalue": "ignored",
          "traceback": [
            "\u001b[0;36m  File \u001b[0;32m\"<ipython-input-100-2fc0afdc077a>\"\u001b[0;36m, line \u001b[0;32m7\u001b[0m\n\u001b[0;31m    #print(\"the area of the\", \"shape\", \"is\", area)\u001b[0m\n\u001b[0m                                                  ^\u001b[0m\n\u001b[0;31mSyntaxError\u001b[0m\u001b[0;31m:\u001b[0m incomplete input\n"
          ]
        }
      ],
      "source": [
        "area = 'squiare' , 'area', (side)\n",
        "area = \"triangle\", \"area\", ('base', 'heightr')\n",
        " #height = float(input(\"enter the base of the trangle\"))\n",
        "print, (\"invalid shap\")\n",
        "\"return\", \"none\"\n",
        "if area is not \"none\":\n",
        " #print(\"the area of the\", \"shape\", \"is\", area)"
      ]
    },
    {
      "cell_type": "markdown",
      "metadata": {
        "id": "F90CdyPn2Pma"
      },
      "source": []
    },
    {
      "cell_type": "code",
      "source": [
        "#area= length * width\n",
        "length = 4.8\n",
        "width= 5.8\n",
        "area = \"rectangle\", \"area\", (\"length\", \"width\")\n",
        "#print(\"the area of the rectangle is\", \"area\")"
      ],
      "metadata": {
        "id": "93Z73hDbWkr1"
      },
      "execution_count": 95,
      "outputs": []
    },
    {
      "cell_type": "markdown",
      "source": [
        "get the shape name (tag). this function returns the name of the selected shape based on the users input.\n",
        "the program begins by printing a header prompting the user to select a shape. the user is then prompted ti input the relevant function to calculate the area of the selected shape and outputs the calculated area."
      ],
      "metadata": {
        "id": "GIjWJlhJHjIX"
      }
    },
    {
      "cell_type": "code",
      "source": [
        "# print header and prompt user for shape selection\n",
        "(\"1 rrectangle\")\n",
        "(\"circle\")\n",
        "shape = int(input(\"enter shape number:\"))\n",
        "# determine and print shape name (tag) based on selection\n",
        "#if shape is '1'\n",
        "#print (\"shape name alpa\")\n",
        "  #else:\n",
        " #print(\"invalid selection\")"
      ],
      "metadata": {
        "colab": {
          "base_uri": "https://localhost:8080/"
        },
        "id": "u5woKM5aZ-5v",
        "outputId": "143ab35b-31bd-4421-cd6e-15ae83e7da83"
      },
      "execution_count": 74,
      "outputs": [
        {
          "name": "stdout",
          "output_type": "stream",
          "text": [
            "enter shape number:1\n"
          ]
        }
      ]
    }
  ],
  "metadata": {
    "colab": {
      "provenance": [],
      "mount_file_id": "19gCfxYl0tZuIJJ4HDxhsPXjj_lhhr2gj",
      "authorship_tag": "ABX9TyMKi1wUvj2RM17iUOPapR0M",
      "include_colab_link": true
    },
    "kernelspec": {
      "display_name": "Python 3",
      "name": "python3"
    },
    "language_info": {
      "name": "python"
    }
  },
  "nbformat": 4,
  "nbformat_minor": 0
}